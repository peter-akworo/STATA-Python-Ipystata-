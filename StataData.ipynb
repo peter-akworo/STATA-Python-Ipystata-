{
 "cells": [
  {
   "cell_type": "code",
   "execution_count": 1,
   "metadata": {},
   "outputs": [],
   "source": [
    "import ipystata"
   ]
  },
  {
   "cell_type": "code",
   "execution_count": 2,
   "metadata": {},
   "outputs": [
    {
     "name": "stdout",
     "output_type": "stream",
     "text": [
      "\n",
      "Contains data\n",
      "  obs:             0                          \n",
      " vars:             0                          \n",
      " size:             0                          \n",
      "Sorted by:  \n",
      "\n"
     ]
    }
   ],
   "source": [
    "%%stata\n",
    "d"
   ]
  },
  {
   "cell_type": "code",
   "execution_count": 3,
   "metadata": {},
   "outputs": [
    {
     "name": "stdout",
     "output_type": "stream",
     "text": [
      "C:\\Users\\ME\\Desktop\\data\\kk3\n",
      "\n"
     ]
    }
   ],
   "source": [
    "%%stata\n",
    "cd \"C:\\\\Users\\\\ME\\\\Desktop\\\\data\\\\kk3\" //loading data"
   ]
  },
  {
   "cell_type": "code",
   "execution_count": 4,
   "metadata": {},
   "outputs": [
    {
     "name": "stdout",
     "output_type": "stream",
     "text": [
      "  <dir>   7/30/12  8:23  .                 \n",
      "  <dir>   7/30/12  8:23  ..                \n",
      "   0.9k   7/30/12  7:33  an1cmdkk.do       \n",
      "   0.3k   7/30/12  7:29  an1kk.do          \n",
      "   1.9k   7/30/12  7:46  an2kk.do          \n",
      "   0.4k   7/30/12  7:29  an2_0kk.do        \n",
      "   1.5k   7/30/12  7:29  analwe.dta        \n",
      "   1.6k   7/30/12  7:47  anbeta.do         \n",
      "   0.9k   7/30/12  7:48  anincome.do       \n",
      "   2.4k   7/30/12  7:39  ansamples.do      \n",
      "   2.1k   7/30/12  7:29  anscombe.dta      \n",
      "   0.9k   7/30/12  7:29  beatles.dta       \n",
      "5728.9k   7/30/12  7:29  berlin.dta        \n",
      "   0.5k   7/30/12  7:29  cplot.do          \n",
      "   0.2k   7/30/12  7:29  cranalwe.do       \n",
      "   0.9k   7/30/12  7:29  cranscombe.do     \n",
      "   0.7k   7/30/12  7:29  crbeatles.do      \n",
      "   0.7k   7/30/12  7:48  crberlin.do       \n",
      "  15.9k   7/30/12  7:53  crdata1.do        \n",
      "   5.7k   7/30/12  7:54  crdata2.do        \n",
      "   0.8k   7/30/12  7:29  crdiary.do        \n",
      "   0.2k   7/30/12  7:29  crfreqwe.do       \n",
      "   0.2k   7/30/12  7:29  crkatempkk.do     \n",
      "   0.7k   7/30/12  7:29  crka_temp.do      \n",
      "   6.7k   7/30/12  7:43  crkksoep.do       \n",
      "   1.5k   7/30/12  7:29  crlsat.do         \n",
      "   9.0k   7/30/12  7:51  crmdb.do          \n",
      "   0.3k   7/30/12  7:29  crpequiv07kk.do   \n",
      "   4.6k   7/30/12  7:44  crpop.do          \n",
      "   1.4k   7/30/12  7:55  crprogex.do       \n",
      "   0.2k   7/30/12  7:29  crqplot.do        \n",
      "   0.7k   7/30/12  7:29  crtitanic.do      \n",
      "   1.3k   7/30/12  7:55  crtitanic2.do     \n",
      "   3.1k   7/30/12  7:29  crwho2009.do      \n",
      " 582.9k   7/30/12  7:29  data1.dta         \n",
      "   1.5k   7/30/12  7:29  data2agg.dta      \n",
      "1119.1k   7/30/12  7:29  data2w.dta        \n",
      "   0.5k   7/30/12  7:29  denscomp.ado      \n",
      "   0.4k   7/30/12  7:49  denscomp.do       \n",
      "   0.8k   7/30/12  7:29  denscomp.sthlp    \n",
      "   1.7k   7/30/12  7:29  diary.dta         \n",
      "   0.8k   7/30/12  7:44  foreachkk.do      \n",
      "   1.1k   7/30/12  7:29  freqwe.dta        \n",
      "   0.4k   7/30/12  7:29  granscomb1.do     \n",
      "   0.6k   7/30/12  7:29  granscomb2.do     \n",
      "   1.5k   7/30/12  7:29  grappend.do       \n",
      "   1.0k   7/30/12  7:49  grbeatles.do      \n",
      "   0.8k   7/30/12  7:29  grbeta.do         \n",
      "   1.1k   7/30/12  7:45  grci.do           \n",
      "   3.4k   7/30/12  7:38  grcleveland.do    \n",
      "   0.7k   7/30/12  7:29  grfahrmeir.do     \n",
      "   1.2k   7/30/12  7:36  grmeans.do        \n",
      "   1.2k   7/30/12  7:34  grmerge.do        \n",
      "   1.4k   7/30/12  7:35  grmerge1.do       \n",
      "   1.3k   7/30/12  7:35  grmerge2.do       \n",
      "   0.3k   7/30/12  7:29  grreg1.do         \n",
      "   0.3k   7/30/12  7:29  grreg2.do         \n",
      "   0.8k   7/30/12  7:29  grscatter.do      \n",
      "   1.2k   7/30/12  7:34  grtypes.do        \n",
      "  14.9k   7/30/12  7:29  ka_temp.dta       \n",
      "  <dir>   7/30/12  7:29  kksoep            \n",
      "   1.0k   7/30/12  7:29  master_example.do \n",
      " 916.2k   7/30/12  7:29  mdb.dta           \n",
      "   0.2k   7/30/12  7:29  p2.ado            \n",
      " 800.9k   7/30/12  7:29  pequiv07kk.dta    \n",
      "   2.4k   7/30/12  7:29  popst1.dta        \n",
      "   0.7k   7/30/12  7:29  popst1.raw        \n",
      "   7.5k   7/30/12  7:29  popst1.xls        \n",
      "   2.6k   7/30/12  7:29  popst1.xpt        \n",
      " 295.2k   7/30/12  7:29  popst1V2.dta      \n",
      "   0.8k   7/30/12  7:29  popst2.raw        \n",
      "   1.1k   7/30/12  8:08  popst3.raw        \n",
      "   1.1k   7/30/12  7:29  popst4.raw        \n",
      "   0.7k   7/30/12  7:29  popst5.raw        \n",
      "   0.1k   7/30/12  7:29  popst5kk.dct      \n",
      "   0.8k   7/30/12  7:29  popst6.raw        \n",
      "   0.3k   7/30/12  7:29  popst6kk.dct      \n",
      "  38.9k   7/30/12  7:29  progex.dta        \n",
      "   0.3k   7/30/12  7:29  qplot.dta         \n",
      "  35.7k   7/30/12  7:29  titanic.dta       \n",
      "  10.1k   7/30/12  7:29  titanic2.dta      \n",
      "  92.1k   7/30/12  7:29  tomerge.dta       \n",
      "  56.5k   7/30/12  7:29  who2009.dta       \n",
      "\n"
     ]
    }
   ],
   "source": [
    "%%stata\n",
    "*current working directory\n",
    "dir  "
   ]
  },
  {
   "cell_type": "code",
   "execution_count": 5,
   "metadata": {},
   "outputs": [
    {
     "name": "stdout",
     "output_type": "stream",
     "text": [
      "   1.5k   7/30/12  7:29  analwe.dta        \n",
      "   2.1k   7/30/12  7:29  anscombe.dta      \n",
      "   0.9k   7/30/12  7:29  beatles.dta       \n",
      "5728.9k   7/30/12  7:29  berlin.dta        \n",
      " 582.9k   7/30/12  7:29  data1.dta         \n",
      "   1.5k   7/30/12  7:29  data2agg.dta      \n",
      "1119.1k   7/30/12  7:29  data2w.dta        \n",
      "   1.7k   7/30/12  7:29  diary.dta         \n",
      "   1.1k   7/30/12  7:29  freqwe.dta        \n",
      "  14.9k   7/30/12  7:29  ka_temp.dta       \n",
      " 916.2k   7/30/12  7:29  mdb.dta           \n",
      " 800.9k   7/30/12  7:29  pequiv07kk.dta    \n",
      "   2.4k   7/30/12  7:29  popst1.dta        \n",
      " 295.2k   7/30/12  7:29  popst1V2.dta      \n",
      "  38.9k   7/30/12  7:29  progex.dta        \n",
      "   0.3k   7/30/12  7:29  qplot.dta         \n",
      "  35.7k   7/30/12  7:29  titanic.dta       \n",
      "  10.1k   7/30/12  7:29  titanic2.dta      \n",
      "  92.1k   7/30/12  7:29  tomerge.dta       \n",
      "  56.5k   7/30/12  7:29  who2009.dta       \n",
      "\n"
     ]
    }
   ],
   "source": [
    "%%stata\n",
    "*all .dta files\n",
    "dir *.dta"
   ]
  },
  {
   "cell_type": "code",
   "execution_count": 6,
   "metadata": {},
   "outputs": [
    {
     "name": "stdout",
     "output_type": "stream",
     "text": [
      "(SOEP 2009 (Kohler/Kreuter))\n",
      "\n"
     ]
    }
   ],
   "source": [
    "%%stata\n",
    "*load the file data1.dta\n",
    "use data1"
   ]
  },
  {
   "cell_type": "code",
   "execution_count": 7,
   "metadata": {},
   "outputs": [
    {
     "name": "stdout",
     "output_type": "stream",
     "text": [
      "\n",
      "Contains data from data1.dta\n",
      "  obs:         5,411                          SOEP 2009 (Kohler/Kreuter)\n",
      " vars:            65                          13 Feb 2012 17:08\n",
      " size:       568,155                          \n",
      "---------------------------------------------------------------------------------------------------------------------------------\n",
      "              storage  display     value\n",
      "variable name   type   format      label      variable label\n",
      "---------------------------------------------------------------------------------------------------------------------------------\n",
      "persnr          long   %12.0g                 Never changing person ID\n",
      "hhnr2009        long   %12.0g               * Current household number\n",
      "state           byte   %22.0g      state    * State of Residence\n",
      "ybirth          int    %8.0g                * Year of birth\n",
      "sex             byte   %20.0g      sex        Gender\n",
      "mar             byte   %29.0g      mar      * Marital Status of Individual\n",
      "edu             byte   %28.0g      edu      * Education\n",
      "yedu            float  %9.0g                * Number of Years of Education\n",
      "voc             byte   %40.0g      voc        Vocational trainig/university\n",
      "emp             byte   %44.0g      emp      * Status of Employment\n",
      "egp             byte   %45.0g      egp      * Social Class (EGP)\n",
      "income          long   %10.0g               * Individual Labor Earnings\n",
      "hhinc           long   %10.0g               * HH Post-Government Income\n",
      "hhsize          byte   %8.0g                * Number of Persons in HH\n",
      "hhsize0to14     byte   %8.0g                * Number of hh members age 0-14\n",
      "rel2head        byte   %20.0g      rel2head * Relationship to HH Head\n",
      "ymove           int    %8.0g                * Year moved into dwelling\n",
      "ybuild          byte   %21.0g      ybuild   * Year house was build\n",
      "condit          byte   %24.0g      condit   * Condition of house\n",
      "dsat            byte   %45.0g      scale11  * Satisfaction with dwelling\n",
      "size            int    %12.0g               * Size of housing unit in ft.^2\n",
      "seval           byte   %20.0g      seval    * Adequacy of living space in housing unit\n",
      "rooms           byte   %8.0g                * Number of rooms larger than 65 ft.^2\n",
      "renttype        byte   %20.0g      renttype * Status of living\n",
      "rent            int    %12.0g               * Rent minus heating costs in USD\n",
      "reval           byte   %20.0g      reval    * Adequacy of rent\n",
      "eqphea          byte   %20.0g      scale2   * Dwelling has central floor head\n",
      "eqpter          byte   %20.0g      scale2   * Dwelling has balcony/terrace\n",
      "eqpbas          byte   %20.0g      scale2   * Dwelling has basement\n",
      "eqpgar          byte   %20.0g      scale2   * Dwelling has garden\n",
      "eqpalm          byte   %20.0g      scale2   * Dwelling has alarm system\n",
      "eqpsol          byte   %20.0g      scale2   * Dwelling has solar system\n",
      "eqpair          byte   %20.0g      scale2   * Dwelling has air conditioner\n",
      "eqplif          byte   %20.0g      scale2   * Dwelling has elevator\n",
      "eqpnrj          byte   %20.0g      scale2   * Dwelling has alternative energy source\n",
      "hhtyp           byte   %35.0g      hhtyp    * Household typology\n",
      "area1           byte   %25.0g      area1    * Residental area: type of house\n",
      "area2           byte   %24.0g      area2    * Residental area: Rental Housing\n",
      "dvisits         int    %8.0g                * Number of annual doctor visits\n",
      "heval           byte   %21.0g      heval    * Current Self-Rated Health Status\n",
      "hsat            byte   %32.0g      scale11  * Satisfaction with Health\n",
      "polint          byte   %20.0g      much4    * Political Interests\n",
      "pia             byte   %20.0g      scale2   * Supports political party\n",
      "pib             byte   %15.0g      pib        Political party supported\n",
      "pic             byte   %20.0g      strong5  * Amount of support for political party\n",
      "lsat            byte   %32.0g      scale11  * Overall life satisfaction\n",
      "wor01           byte   %20.0g      concern3 * Worried about economic development\n",
      "wor02           byte   %20.0g      concern3 * Worried about finances\n",
      "wor03           byte   %20.0g      concern3 * Worried about stability of financial markets\n",
      "wor04           byte   %20.0g      concern3 * Worried about own health\n",
      "wor05           byte   %20.0g      concern3 * Worried about environment\n",
      "wor06           byte   %20.0g      concern3 * Worried about consequences from climate change\n",
      "wor07           byte   %20.0g      concern3 * Worried about peace\n",
      "wor08           byte   %20.0g      concern3 * Worried about global terrorism\n",
      "wor09           byte   %20.0g      concern3 * Worried about crime in Germany\n",
      "wor10           byte   %20.0g      concern3 * Worried about immigration to Germany\n",
      "wor11           byte   %20.0g      concern3 * Worried about hostility to foreigners\n",
      "wor12           byte   %20.0g      concern3 * Worried about job security\n",
      "sample          byte   %25.0g      sample     Subsample identifier\n",
      "intnr           long   %14.0g      intnr      Interviewer number\n",
      "hhnr            long   %12.0g                 Origial household number\n",
      "strata          int    %8.0g                  Strata\n",
      "psu             long   %12.0g                 Primary sampling units\n",
      "dweight         float  %12.0g                 Design weights\n",
      "xweights        double %10.0g               * Cross sectional weights\n",
      "                                            * indicated variables have notes\n",
      "---------------------------------------------------------------------------------------------------------------------------------\n",
      "Sorted by:  persnr\n",
      "\n"
     ]
    }
   ],
   "source": [
    "%%stata\n",
    "*look at data1.dta contents\n",
    "describe"
   ]
  },
  {
   "cell_type": "code",
   "execution_count": 8,
   "metadata": {},
   "outputs": [],
   "source": [
    "%%stata\n",
    "*remove an unneccessary section of the variable list\n",
    "drop ymove-xweights"
   ]
  },
  {
   "cell_type": "code",
   "execution_count": 9,
   "metadata": {},
   "outputs": [
    {
     "name": "stdout",
     "output_type": "stream",
     "text": [
      "\n",
      "Contains data from data1.dta\n",
      "  obs:         5,411                          SOEP 2009 (Kohler/Kreuter)\n",
      " vars:            16                          13 Feb 2012 17:08\n",
      " size:       173,152                          \n",
      "---------------------------------------------------------------------------------------------------------------------------------\n",
      "              storage  display     value\n",
      "variable name   type   format      label      variable label\n",
      "---------------------------------------------------------------------------------------------------------------------------------\n",
      "persnr          long   %12.0g                 Never changing person ID\n",
      "hhnr2009        long   %12.0g               * Current household number\n",
      "state           byte   %22.0g      state    * State of Residence\n",
      "ybirth          int    %8.0g                * Year of birth\n",
      "sex             byte   %20.0g      sex        Gender\n",
      "mar             byte   %29.0g      mar      * Marital Status of Individual\n",
      "edu             byte   %28.0g      edu      * Education\n",
      "yedu            float  %9.0g                * Number of Years of Education\n",
      "voc             byte   %40.0g      voc        Vocational trainig/university\n",
      "emp             byte   %44.0g      emp      * Status of Employment\n",
      "egp             byte   %45.0g      egp      * Social Class (EGP)\n",
      "income          long   %10.0g               * Individual Labor Earnings\n",
      "hhinc           long   %10.0g               * HH Post-Government Income\n",
      "hhsize          byte   %8.0g                * Number of Persons in HH\n",
      "hhsize0to14     byte   %8.0g                * Number of hh members age 0-14\n",
      "rel2head        byte   %20.0g      rel2head * Relationship to HH Head\n",
      "                                            * indicated variables have notes\n",
      "---------------------------------------------------------------------------------------------------------------------------------\n",
      "Sorted by:  persnr\n",
      "     Note:  dataset has changed since last saved\n",
      "\n"
     ]
    }
   ],
   "source": [
    "%%stata\n",
    "*look at data1.dta contents once again\n",
    "describe"
   ]
  },
  {
   "cell_type": "code",
   "execution_count": 10,
   "metadata": {},
   "outputs": [
    {
     "name": "stderr",
     "output_type": "stream",
     "text": [
      "IOPub data rate exceeded.\n",
      "The notebook server will temporarily stop sending output\n",
      "to the client in order to avoid crashing it.\n",
      "To change this limit, set the config variable\n",
      "`--NotebookApp.iopub_data_rate_limit`.\n",
      "\n",
      "Current values:\n",
      "NotebookApp.iopub_data_rate_limit=1000000.0 (bytes/sec)\n",
      "NotebookApp.rate_limit_window=3.0 (secs)\n",
      "\n"
     ]
    }
   ],
   "source": [
    "%%stata\n",
    "list"
   ]
  },
  {
   "cell_type": "code",
   "execution_count": null,
   "metadata": {},
   "outputs": [],
   "source": []
  }
 ],
 "metadata": {
  "kernelspec": {
   "display_name": "Python 3",
   "language": "python",
   "name": "python3"
  },
  "language_info": {
   "codemirror_mode": {
    "name": "ipython",
    "version": 3
   },
   "file_extension": ".py",
   "mimetype": "text/x-python",
   "name": "python",
   "nbconvert_exporter": "python",
   "pygments_lexer": "ipython3",
   "version": "3.7.1"
  }
 },
 "nbformat": 4,
 "nbformat_minor": 2
}
